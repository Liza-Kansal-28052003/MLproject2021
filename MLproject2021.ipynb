{
 "cells": [
  {
   "cell_type": "code",
   "execution_count": 1,
   "id": "05449347",
   "metadata": {},
   "outputs": [],
   "source": [
    "#importing lib\n",
    "import numpy as np\n",
    "import pandas as pd\n",
    "import matplotlib.pyplot as plt\n",
    "import seaborn as sns\n",
    "import matplotlib.pyplot as plt\n",
    "from pandas import DataFrame\n",
    "%matplotlib inline"
   ]
  },
  {
   "cell_type": "code",
   "execution_count": 2,
   "id": "54e1e1d1",
   "metadata": {},
   "outputs": [],
   "source": [
    "df=pd.read_csv(r\"C:\\Users\\liza kansal\\Downloads\\MLproject2021.csv\")"
   ]
  },
  {
   "cell_type": "code",
   "execution_count": 3,
   "id": "b74eb39a",
   "metadata": {},
   "outputs": [
    {
     "name": "stdout",
     "output_type": "stream",
     "text": [
      "       age gender  height_cm  weight_kg  body fat_%  diastolic  systolic  \\\n",
      "0       27      M      172.3      75.24        21.3       80.0     130.0   \n",
      "1       25      M      165.0      55.80        15.7       77.0     126.0   \n",
      "2       31      M      179.6      78.00        20.1       92.0     152.0   \n",
      "3       32      M      174.5      71.10        18.4       76.0     147.0   \n",
      "4       28      M      173.8      67.70        17.1       70.0     127.0   \n",
      "...    ...    ...        ...        ...         ...        ...       ...   \n",
      "13388   25      M      172.1      71.80        16.2       74.0     141.0   \n",
      "13389   21      M      179.7      63.90        12.1       74.0     128.0   \n",
      "13390   39      M      177.2      80.50        20.1       78.0     132.0   \n",
      "13391   64      F      146.1      57.70        40.4       68.0     121.0   \n",
      "13392   34      M      164.0      66.10        19.5       82.0     150.0   \n",
      "\n",
      "       gripForce  sit and bend forward_cm  sit-ups counts  broad jump_cm class  \n",
      "0           54.9                     18.4            60.0          217.0     C  \n",
      "1           36.4                     16.3            53.0          229.0     A  \n",
      "2           44.8                     12.0            49.0          181.0     C  \n",
      "3           41.4                     15.2            53.0          219.0     B  \n",
      "4           43.5                     27.1            45.0          217.0     B  \n",
      "...          ...                      ...             ...            ...   ...  \n",
      "13388       35.8                     17.4            47.0          198.0     C  \n",
      "13389       33.0                      1.1            48.0          167.0     D  \n",
      "13390       63.5                     16.4            45.0          229.0     A  \n",
      "13391       19.3                      9.2             0.0           75.0     D  \n",
      "13392       35.9                      7.1            51.0          180.0     C  \n",
      "\n",
      "[13393 rows x 12 columns]\n"
     ]
    }
   ],
   "source": [
    "print(df)"
   ]
  },
  {
   "cell_type": "code",
   "execution_count": 4,
   "id": "a1ce532a",
   "metadata": {
    "scrolled": true
   },
   "outputs": [
    {
     "data": {
      "text/html": [
       "<div>\n",
       "<style scoped>\n",
       "    .dataframe tbody tr th:only-of-type {\n",
       "        vertical-align: middle;\n",
       "    }\n",
       "\n",
       "    .dataframe tbody tr th {\n",
       "        vertical-align: top;\n",
       "    }\n",
       "\n",
       "    .dataframe thead th {\n",
       "        text-align: right;\n",
       "    }\n",
       "</style>\n",
       "<table border=\"1\" class=\"dataframe\">\n",
       "  <thead>\n",
       "    <tr style=\"text-align: right;\">\n",
       "      <th></th>\n",
       "      <th>age</th>\n",
       "      <th>gender</th>\n",
       "      <th>height_cm</th>\n",
       "      <th>weight_kg</th>\n",
       "      <th>body fat_%</th>\n",
       "      <th>diastolic</th>\n",
       "      <th>systolic</th>\n",
       "      <th>gripForce</th>\n",
       "      <th>sit and bend forward_cm</th>\n",
       "      <th>sit-ups counts</th>\n",
       "      <th>broad jump_cm</th>\n",
       "      <th>class</th>\n",
       "    </tr>\n",
       "  </thead>\n",
       "  <tbody>\n",
       "    <tr>\n",
       "      <th>0</th>\n",
       "      <td>27</td>\n",
       "      <td>M</td>\n",
       "      <td>172.3</td>\n",
       "      <td>75.24</td>\n",
       "      <td>21.3</td>\n",
       "      <td>80.0</td>\n",
       "      <td>130.0</td>\n",
       "      <td>54.9</td>\n",
       "      <td>18.4</td>\n",
       "      <td>60.0</td>\n",
       "      <td>217.0</td>\n",
       "      <td>C</td>\n",
       "    </tr>\n",
       "    <tr>\n",
       "      <th>1</th>\n",
       "      <td>25</td>\n",
       "      <td>M</td>\n",
       "      <td>165.0</td>\n",
       "      <td>55.80</td>\n",
       "      <td>15.7</td>\n",
       "      <td>77.0</td>\n",
       "      <td>126.0</td>\n",
       "      <td>36.4</td>\n",
       "      <td>16.3</td>\n",
       "      <td>53.0</td>\n",
       "      <td>229.0</td>\n",
       "      <td>A</td>\n",
       "    </tr>\n",
       "    <tr>\n",
       "      <th>2</th>\n",
       "      <td>31</td>\n",
       "      <td>M</td>\n",
       "      <td>179.6</td>\n",
       "      <td>78.00</td>\n",
       "      <td>20.1</td>\n",
       "      <td>92.0</td>\n",
       "      <td>152.0</td>\n",
       "      <td>44.8</td>\n",
       "      <td>12.0</td>\n",
       "      <td>49.0</td>\n",
       "      <td>181.0</td>\n",
       "      <td>C</td>\n",
       "    </tr>\n",
       "    <tr>\n",
       "      <th>3</th>\n",
       "      <td>32</td>\n",
       "      <td>M</td>\n",
       "      <td>174.5</td>\n",
       "      <td>71.10</td>\n",
       "      <td>18.4</td>\n",
       "      <td>76.0</td>\n",
       "      <td>147.0</td>\n",
       "      <td>41.4</td>\n",
       "      <td>15.2</td>\n",
       "      <td>53.0</td>\n",
       "      <td>219.0</td>\n",
       "      <td>B</td>\n",
       "    </tr>\n",
       "    <tr>\n",
       "      <th>4</th>\n",
       "      <td>28</td>\n",
       "      <td>M</td>\n",
       "      <td>173.8</td>\n",
       "      <td>67.70</td>\n",
       "      <td>17.1</td>\n",
       "      <td>70.0</td>\n",
       "      <td>127.0</td>\n",
       "      <td>43.5</td>\n",
       "      <td>27.1</td>\n",
       "      <td>45.0</td>\n",
       "      <td>217.0</td>\n",
       "      <td>B</td>\n",
       "    </tr>\n",
       "    <tr>\n",
       "      <th>...</th>\n",
       "      <td>...</td>\n",
       "      <td>...</td>\n",
       "      <td>...</td>\n",
       "      <td>...</td>\n",
       "      <td>...</td>\n",
       "      <td>...</td>\n",
       "      <td>...</td>\n",
       "      <td>...</td>\n",
       "      <td>...</td>\n",
       "      <td>...</td>\n",
       "      <td>...</td>\n",
       "      <td>...</td>\n",
       "    </tr>\n",
       "    <tr>\n",
       "      <th>13388</th>\n",
       "      <td>25</td>\n",
       "      <td>M</td>\n",
       "      <td>172.1</td>\n",
       "      <td>71.80</td>\n",
       "      <td>16.2</td>\n",
       "      <td>74.0</td>\n",
       "      <td>141.0</td>\n",
       "      <td>35.8</td>\n",
       "      <td>17.4</td>\n",
       "      <td>47.0</td>\n",
       "      <td>198.0</td>\n",
       "      <td>C</td>\n",
       "    </tr>\n",
       "    <tr>\n",
       "      <th>13389</th>\n",
       "      <td>21</td>\n",
       "      <td>M</td>\n",
       "      <td>179.7</td>\n",
       "      <td>63.90</td>\n",
       "      <td>12.1</td>\n",
       "      <td>74.0</td>\n",
       "      <td>128.0</td>\n",
       "      <td>33.0</td>\n",
       "      <td>1.1</td>\n",
       "      <td>48.0</td>\n",
       "      <td>167.0</td>\n",
       "      <td>D</td>\n",
       "    </tr>\n",
       "    <tr>\n",
       "      <th>13390</th>\n",
       "      <td>39</td>\n",
       "      <td>M</td>\n",
       "      <td>177.2</td>\n",
       "      <td>80.50</td>\n",
       "      <td>20.1</td>\n",
       "      <td>78.0</td>\n",
       "      <td>132.0</td>\n",
       "      <td>63.5</td>\n",
       "      <td>16.4</td>\n",
       "      <td>45.0</td>\n",
       "      <td>229.0</td>\n",
       "      <td>A</td>\n",
       "    </tr>\n",
       "    <tr>\n",
       "      <th>13391</th>\n",
       "      <td>64</td>\n",
       "      <td>F</td>\n",
       "      <td>146.1</td>\n",
       "      <td>57.70</td>\n",
       "      <td>40.4</td>\n",
       "      <td>68.0</td>\n",
       "      <td>121.0</td>\n",
       "      <td>19.3</td>\n",
       "      <td>9.2</td>\n",
       "      <td>0.0</td>\n",
       "      <td>75.0</td>\n",
       "      <td>D</td>\n",
       "    </tr>\n",
       "    <tr>\n",
       "      <th>13392</th>\n",
       "      <td>34</td>\n",
       "      <td>M</td>\n",
       "      <td>164.0</td>\n",
       "      <td>66.10</td>\n",
       "      <td>19.5</td>\n",
       "      <td>82.0</td>\n",
       "      <td>150.0</td>\n",
       "      <td>35.9</td>\n",
       "      <td>7.1</td>\n",
       "      <td>51.0</td>\n",
       "      <td>180.0</td>\n",
       "      <td>C</td>\n",
       "    </tr>\n",
       "  </tbody>\n",
       "</table>\n",
       "<p>13393 rows × 12 columns</p>\n",
       "</div>"
      ],
      "text/plain": [
       "       age gender  height_cm  weight_kg  body fat_%  diastolic  systolic  \\\n",
       "0       27      M      172.3      75.24        21.3       80.0     130.0   \n",
       "1       25      M      165.0      55.80        15.7       77.0     126.0   \n",
       "2       31      M      179.6      78.00        20.1       92.0     152.0   \n",
       "3       32      M      174.5      71.10        18.4       76.0     147.0   \n",
       "4       28      M      173.8      67.70        17.1       70.0     127.0   \n",
       "...    ...    ...        ...        ...         ...        ...       ...   \n",
       "13388   25      M      172.1      71.80        16.2       74.0     141.0   \n",
       "13389   21      M      179.7      63.90        12.1       74.0     128.0   \n",
       "13390   39      M      177.2      80.50        20.1       78.0     132.0   \n",
       "13391   64      F      146.1      57.70        40.4       68.0     121.0   \n",
       "13392   34      M      164.0      66.10        19.5       82.0     150.0   \n",
       "\n",
       "       gripForce  sit and bend forward_cm  sit-ups counts  broad jump_cm class  \n",
       "0           54.9                     18.4            60.0          217.0     C  \n",
       "1           36.4                     16.3            53.0          229.0     A  \n",
       "2           44.8                     12.0            49.0          181.0     C  \n",
       "3           41.4                     15.2            53.0          219.0     B  \n",
       "4           43.5                     27.1            45.0          217.0     B  \n",
       "...          ...                      ...             ...            ...   ...  \n",
       "13388       35.8                     17.4            47.0          198.0     C  \n",
       "13389       33.0                      1.1            48.0          167.0     D  \n",
       "13390       63.5                     16.4            45.0          229.0     A  \n",
       "13391       19.3                      9.2             0.0           75.0     D  \n",
       "13392       35.9                      7.1            51.0          180.0     C  \n",
       "\n",
       "[13393 rows x 12 columns]"
      ]
     },
     "execution_count": 4,
     "metadata": {},
     "output_type": "execute_result"
    }
   ],
   "source": [
    "df"
   ]
  },
  {
   "cell_type": "code",
   "execution_count": 5,
   "id": "e5a9642a",
   "metadata": {},
   "outputs": [],
   "source": [
    "df=df.drop(['sit-ups counts'], axis=1)"
   ]
  },
  {
   "cell_type": "code",
   "execution_count": 6,
   "id": "8d24e74d",
   "metadata": {},
   "outputs": [
    {
     "data": {
      "text/html": [
       "<div>\n",
       "<style scoped>\n",
       "    .dataframe tbody tr th:only-of-type {\n",
       "        vertical-align: middle;\n",
       "    }\n",
       "\n",
       "    .dataframe tbody tr th {\n",
       "        vertical-align: top;\n",
       "    }\n",
       "\n",
       "    .dataframe thead th {\n",
       "        text-align: right;\n",
       "    }\n",
       "</style>\n",
       "<table border=\"1\" class=\"dataframe\">\n",
       "  <thead>\n",
       "    <tr style=\"text-align: right;\">\n",
       "      <th></th>\n",
       "      <th>age</th>\n",
       "      <th>gender</th>\n",
       "      <th>height_cm</th>\n",
       "      <th>weight_kg</th>\n",
       "      <th>body fat_%</th>\n",
       "      <th>diastolic</th>\n",
       "      <th>systolic</th>\n",
       "      <th>gripForce</th>\n",
       "      <th>sit and bend forward_cm</th>\n",
       "      <th>broad jump_cm</th>\n",
       "      <th>class</th>\n",
       "    </tr>\n",
       "  </thead>\n",
       "  <tbody>\n",
       "    <tr>\n",
       "      <th>0</th>\n",
       "      <td>27</td>\n",
       "      <td>M</td>\n",
       "      <td>172.3</td>\n",
       "      <td>75.24</td>\n",
       "      <td>21.3</td>\n",
       "      <td>80.0</td>\n",
       "      <td>130.0</td>\n",
       "      <td>54.9</td>\n",
       "      <td>18.4</td>\n",
       "      <td>217.0</td>\n",
       "      <td>C</td>\n",
       "    </tr>\n",
       "    <tr>\n",
       "      <th>1</th>\n",
       "      <td>25</td>\n",
       "      <td>M</td>\n",
       "      <td>165.0</td>\n",
       "      <td>55.80</td>\n",
       "      <td>15.7</td>\n",
       "      <td>77.0</td>\n",
       "      <td>126.0</td>\n",
       "      <td>36.4</td>\n",
       "      <td>16.3</td>\n",
       "      <td>229.0</td>\n",
       "      <td>A</td>\n",
       "    </tr>\n",
       "    <tr>\n",
       "      <th>2</th>\n",
       "      <td>31</td>\n",
       "      <td>M</td>\n",
       "      <td>179.6</td>\n",
       "      <td>78.00</td>\n",
       "      <td>20.1</td>\n",
       "      <td>92.0</td>\n",
       "      <td>152.0</td>\n",
       "      <td>44.8</td>\n",
       "      <td>12.0</td>\n",
       "      <td>181.0</td>\n",
       "      <td>C</td>\n",
       "    </tr>\n",
       "    <tr>\n",
       "      <th>3</th>\n",
       "      <td>32</td>\n",
       "      <td>M</td>\n",
       "      <td>174.5</td>\n",
       "      <td>71.10</td>\n",
       "      <td>18.4</td>\n",
       "      <td>76.0</td>\n",
       "      <td>147.0</td>\n",
       "      <td>41.4</td>\n",
       "      <td>15.2</td>\n",
       "      <td>219.0</td>\n",
       "      <td>B</td>\n",
       "    </tr>\n",
       "    <tr>\n",
       "      <th>4</th>\n",
       "      <td>28</td>\n",
       "      <td>M</td>\n",
       "      <td>173.8</td>\n",
       "      <td>67.70</td>\n",
       "      <td>17.1</td>\n",
       "      <td>70.0</td>\n",
       "      <td>127.0</td>\n",
       "      <td>43.5</td>\n",
       "      <td>27.1</td>\n",
       "      <td>217.0</td>\n",
       "      <td>B</td>\n",
       "    </tr>\n",
       "    <tr>\n",
       "      <th>...</th>\n",
       "      <td>...</td>\n",
       "      <td>...</td>\n",
       "      <td>...</td>\n",
       "      <td>...</td>\n",
       "      <td>...</td>\n",
       "      <td>...</td>\n",
       "      <td>...</td>\n",
       "      <td>...</td>\n",
       "      <td>...</td>\n",
       "      <td>...</td>\n",
       "      <td>...</td>\n",
       "    </tr>\n",
       "    <tr>\n",
       "      <th>13388</th>\n",
       "      <td>25</td>\n",
       "      <td>M</td>\n",
       "      <td>172.1</td>\n",
       "      <td>71.80</td>\n",
       "      <td>16.2</td>\n",
       "      <td>74.0</td>\n",
       "      <td>141.0</td>\n",
       "      <td>35.8</td>\n",
       "      <td>17.4</td>\n",
       "      <td>198.0</td>\n",
       "      <td>C</td>\n",
       "    </tr>\n",
       "    <tr>\n",
       "      <th>13389</th>\n",
       "      <td>21</td>\n",
       "      <td>M</td>\n",
       "      <td>179.7</td>\n",
       "      <td>63.90</td>\n",
       "      <td>12.1</td>\n",
       "      <td>74.0</td>\n",
       "      <td>128.0</td>\n",
       "      <td>33.0</td>\n",
       "      <td>1.1</td>\n",
       "      <td>167.0</td>\n",
       "      <td>D</td>\n",
       "    </tr>\n",
       "    <tr>\n",
       "      <th>13390</th>\n",
       "      <td>39</td>\n",
       "      <td>M</td>\n",
       "      <td>177.2</td>\n",
       "      <td>80.50</td>\n",
       "      <td>20.1</td>\n",
       "      <td>78.0</td>\n",
       "      <td>132.0</td>\n",
       "      <td>63.5</td>\n",
       "      <td>16.4</td>\n",
       "      <td>229.0</td>\n",
       "      <td>A</td>\n",
       "    </tr>\n",
       "    <tr>\n",
       "      <th>13391</th>\n",
       "      <td>64</td>\n",
       "      <td>F</td>\n",
       "      <td>146.1</td>\n",
       "      <td>57.70</td>\n",
       "      <td>40.4</td>\n",
       "      <td>68.0</td>\n",
       "      <td>121.0</td>\n",
       "      <td>19.3</td>\n",
       "      <td>9.2</td>\n",
       "      <td>75.0</td>\n",
       "      <td>D</td>\n",
       "    </tr>\n",
       "    <tr>\n",
       "      <th>13392</th>\n",
       "      <td>34</td>\n",
       "      <td>M</td>\n",
       "      <td>164.0</td>\n",
       "      <td>66.10</td>\n",
       "      <td>19.5</td>\n",
       "      <td>82.0</td>\n",
       "      <td>150.0</td>\n",
       "      <td>35.9</td>\n",
       "      <td>7.1</td>\n",
       "      <td>180.0</td>\n",
       "      <td>C</td>\n",
       "    </tr>\n",
       "  </tbody>\n",
       "</table>\n",
       "<p>13393 rows × 11 columns</p>\n",
       "</div>"
      ],
      "text/plain": [
       "       age gender  height_cm  weight_kg  body fat_%  diastolic  systolic  \\\n",
       "0       27      M      172.3      75.24        21.3       80.0     130.0   \n",
       "1       25      M      165.0      55.80        15.7       77.0     126.0   \n",
       "2       31      M      179.6      78.00        20.1       92.0     152.0   \n",
       "3       32      M      174.5      71.10        18.4       76.0     147.0   \n",
       "4       28      M      173.8      67.70        17.1       70.0     127.0   \n",
       "...    ...    ...        ...        ...         ...        ...       ...   \n",
       "13388   25      M      172.1      71.80        16.2       74.0     141.0   \n",
       "13389   21      M      179.7      63.90        12.1       74.0     128.0   \n",
       "13390   39      M      177.2      80.50        20.1       78.0     132.0   \n",
       "13391   64      F      146.1      57.70        40.4       68.0     121.0   \n",
       "13392   34      M      164.0      66.10        19.5       82.0     150.0   \n",
       "\n",
       "       gripForce  sit and bend forward_cm  broad jump_cm class  \n",
       "0           54.9                     18.4          217.0     C  \n",
       "1           36.4                     16.3          229.0     A  \n",
       "2           44.8                     12.0          181.0     C  \n",
       "3           41.4                     15.2          219.0     B  \n",
       "4           43.5                     27.1          217.0     B  \n",
       "...          ...                      ...            ...   ...  \n",
       "13388       35.8                     17.4          198.0     C  \n",
       "13389       33.0                      1.1          167.0     D  \n",
       "13390       63.5                     16.4          229.0     A  \n",
       "13391       19.3                      9.2           75.0     D  \n",
       "13392       35.9                      7.1          180.0     C  \n",
       "\n",
       "[13393 rows x 11 columns]"
      ]
     },
     "execution_count": 6,
     "metadata": {},
     "output_type": "execute_result"
    }
   ],
   "source": [
    "df"
   ]
  },
  {
   "cell_type": "code",
   "execution_count": 7,
   "id": "c91de691",
   "metadata": {},
   "outputs": [
    {
     "data": {
      "text/plain": [
       "(13393, 11)"
      ]
     },
     "execution_count": 7,
     "metadata": {},
     "output_type": "execute_result"
    }
   ],
   "source": [
    "df.shape"
   ]
  },
  {
   "cell_type": "code",
   "execution_count": 8,
   "id": "812782c8",
   "metadata": {},
   "outputs": [
    {
     "data": {
      "text/plain": [
       "Index(['age', 'gender', 'height_cm', 'weight_kg', 'body fat_%', 'diastolic',\n",
       "       'systolic', 'gripForce', 'sit and bend forward_cm', 'broad jump_cm',\n",
       "       'class'],\n",
       "      dtype='object')"
      ]
     },
     "execution_count": 8,
     "metadata": {},
     "output_type": "execute_result"
    }
   ],
   "source": [
    "df.columns"
   ]
  },
  {
   "cell_type": "code",
   "execution_count": 9,
   "id": "f1dd0fe2",
   "metadata": {},
   "outputs": [
    {
     "data": {
      "text/html": [
       "<div>\n",
       "<style scoped>\n",
       "    .dataframe tbody tr th:only-of-type {\n",
       "        vertical-align: middle;\n",
       "    }\n",
       "\n",
       "    .dataframe tbody tr th {\n",
       "        vertical-align: top;\n",
       "    }\n",
       "\n",
       "    .dataframe thead th {\n",
       "        text-align: right;\n",
       "    }\n",
       "</style>\n",
       "<table border=\"1\" class=\"dataframe\">\n",
       "  <thead>\n",
       "    <tr style=\"text-align: right;\">\n",
       "      <th></th>\n",
       "      <th>age</th>\n",
       "      <th>gender</th>\n",
       "      <th>height_cm</th>\n",
       "      <th>weight_kg</th>\n",
       "      <th>body fat_%</th>\n",
       "      <th>diastolic</th>\n",
       "      <th>systolic</th>\n",
       "      <th>gripForce</th>\n",
       "      <th>sit and bend forward_cm</th>\n",
       "      <th>broad jump_cm</th>\n",
       "      <th>class</th>\n",
       "    </tr>\n",
       "  </thead>\n",
       "  <tbody>\n",
       "    <tr>\n",
       "      <th>0</th>\n",
       "      <td>27</td>\n",
       "      <td>M</td>\n",
       "      <td>172.3</td>\n",
       "      <td>75.24</td>\n",
       "      <td>21.3</td>\n",
       "      <td>80.0</td>\n",
       "      <td>130.0</td>\n",
       "      <td>54.9</td>\n",
       "      <td>18.4</td>\n",
       "      <td>217.0</td>\n",
       "      <td>C</td>\n",
       "    </tr>\n",
       "    <tr>\n",
       "      <th>1</th>\n",
       "      <td>25</td>\n",
       "      <td>M</td>\n",
       "      <td>165.0</td>\n",
       "      <td>55.80</td>\n",
       "      <td>15.7</td>\n",
       "      <td>77.0</td>\n",
       "      <td>126.0</td>\n",
       "      <td>36.4</td>\n",
       "      <td>16.3</td>\n",
       "      <td>229.0</td>\n",
       "      <td>A</td>\n",
       "    </tr>\n",
       "    <tr>\n",
       "      <th>2</th>\n",
       "      <td>31</td>\n",
       "      <td>M</td>\n",
       "      <td>179.6</td>\n",
       "      <td>78.00</td>\n",
       "      <td>20.1</td>\n",
       "      <td>92.0</td>\n",
       "      <td>152.0</td>\n",
       "      <td>44.8</td>\n",
       "      <td>12.0</td>\n",
       "      <td>181.0</td>\n",
       "      <td>C</td>\n",
       "    </tr>\n",
       "    <tr>\n",
       "      <th>3</th>\n",
       "      <td>32</td>\n",
       "      <td>M</td>\n",
       "      <td>174.5</td>\n",
       "      <td>71.10</td>\n",
       "      <td>18.4</td>\n",
       "      <td>76.0</td>\n",
       "      <td>147.0</td>\n",
       "      <td>41.4</td>\n",
       "      <td>15.2</td>\n",
       "      <td>219.0</td>\n",
       "      <td>B</td>\n",
       "    </tr>\n",
       "    <tr>\n",
       "      <th>4</th>\n",
       "      <td>28</td>\n",
       "      <td>M</td>\n",
       "      <td>173.8</td>\n",
       "      <td>67.70</td>\n",
       "      <td>17.1</td>\n",
       "      <td>70.0</td>\n",
       "      <td>127.0</td>\n",
       "      <td>43.5</td>\n",
       "      <td>27.1</td>\n",
       "      <td>217.0</td>\n",
       "      <td>B</td>\n",
       "    </tr>\n",
       "  </tbody>\n",
       "</table>\n",
       "</div>"
      ],
      "text/plain": [
       "   age gender  height_cm  weight_kg  body fat_%  diastolic  systolic  \\\n",
       "0   27      M      172.3      75.24        21.3       80.0     130.0   \n",
       "1   25      M      165.0      55.80        15.7       77.0     126.0   \n",
       "2   31      M      179.6      78.00        20.1       92.0     152.0   \n",
       "3   32      M      174.5      71.10        18.4       76.0     147.0   \n",
       "4   28      M      173.8      67.70        17.1       70.0     127.0   \n",
       "\n",
       "   gripForce  sit and bend forward_cm  broad jump_cm class  \n",
       "0       54.9                     18.4          217.0     C  \n",
       "1       36.4                     16.3          229.0     A  \n",
       "2       44.8                     12.0          181.0     C  \n",
       "3       41.4                     15.2          219.0     B  \n",
       "4       43.5                     27.1          217.0     B  "
      ]
     },
     "execution_count": 9,
     "metadata": {},
     "output_type": "execute_result"
    }
   ],
   "source": [
    "df.head()"
   ]
  },
  {
   "cell_type": "code",
   "execution_count": 10,
   "id": "c34f2ccb",
   "metadata": {},
   "outputs": [
    {
     "data": {
      "text/html": [
       "<div>\n",
       "<style scoped>\n",
       "    .dataframe tbody tr th:only-of-type {\n",
       "        vertical-align: middle;\n",
       "    }\n",
       "\n",
       "    .dataframe tbody tr th {\n",
       "        vertical-align: top;\n",
       "    }\n",
       "\n",
       "    .dataframe thead th {\n",
       "        text-align: right;\n",
       "    }\n",
       "</style>\n",
       "<table border=\"1\" class=\"dataframe\">\n",
       "  <thead>\n",
       "    <tr style=\"text-align: right;\">\n",
       "      <th></th>\n",
       "      <th>age</th>\n",
       "      <th>gender</th>\n",
       "      <th>height_cm</th>\n",
       "      <th>weight_kg</th>\n",
       "      <th>body fat_%</th>\n",
       "      <th>diastolic</th>\n",
       "      <th>systolic</th>\n",
       "      <th>gripForce</th>\n",
       "      <th>sit and bend forward_cm</th>\n",
       "      <th>broad jump_cm</th>\n",
       "      <th>class</th>\n",
       "    </tr>\n",
       "  </thead>\n",
       "  <tbody>\n",
       "    <tr>\n",
       "      <th>13388</th>\n",
       "      <td>25</td>\n",
       "      <td>M</td>\n",
       "      <td>172.1</td>\n",
       "      <td>71.8</td>\n",
       "      <td>16.2</td>\n",
       "      <td>74.0</td>\n",
       "      <td>141.0</td>\n",
       "      <td>35.8</td>\n",
       "      <td>17.4</td>\n",
       "      <td>198.0</td>\n",
       "      <td>C</td>\n",
       "    </tr>\n",
       "    <tr>\n",
       "      <th>13389</th>\n",
       "      <td>21</td>\n",
       "      <td>M</td>\n",
       "      <td>179.7</td>\n",
       "      <td>63.9</td>\n",
       "      <td>12.1</td>\n",
       "      <td>74.0</td>\n",
       "      <td>128.0</td>\n",
       "      <td>33.0</td>\n",
       "      <td>1.1</td>\n",
       "      <td>167.0</td>\n",
       "      <td>D</td>\n",
       "    </tr>\n",
       "    <tr>\n",
       "      <th>13390</th>\n",
       "      <td>39</td>\n",
       "      <td>M</td>\n",
       "      <td>177.2</td>\n",
       "      <td>80.5</td>\n",
       "      <td>20.1</td>\n",
       "      <td>78.0</td>\n",
       "      <td>132.0</td>\n",
       "      <td>63.5</td>\n",
       "      <td>16.4</td>\n",
       "      <td>229.0</td>\n",
       "      <td>A</td>\n",
       "    </tr>\n",
       "    <tr>\n",
       "      <th>13391</th>\n",
       "      <td>64</td>\n",
       "      <td>F</td>\n",
       "      <td>146.1</td>\n",
       "      <td>57.7</td>\n",
       "      <td>40.4</td>\n",
       "      <td>68.0</td>\n",
       "      <td>121.0</td>\n",
       "      <td>19.3</td>\n",
       "      <td>9.2</td>\n",
       "      <td>75.0</td>\n",
       "      <td>D</td>\n",
       "    </tr>\n",
       "    <tr>\n",
       "      <th>13392</th>\n",
       "      <td>34</td>\n",
       "      <td>M</td>\n",
       "      <td>164.0</td>\n",
       "      <td>66.1</td>\n",
       "      <td>19.5</td>\n",
       "      <td>82.0</td>\n",
       "      <td>150.0</td>\n",
       "      <td>35.9</td>\n",
       "      <td>7.1</td>\n",
       "      <td>180.0</td>\n",
       "      <td>C</td>\n",
       "    </tr>\n",
       "  </tbody>\n",
       "</table>\n",
       "</div>"
      ],
      "text/plain": [
       "       age gender  height_cm  weight_kg  body fat_%  diastolic  systolic  \\\n",
       "13388   25      M      172.1       71.8        16.2       74.0     141.0   \n",
       "13389   21      M      179.7       63.9        12.1       74.0     128.0   \n",
       "13390   39      M      177.2       80.5        20.1       78.0     132.0   \n",
       "13391   64      F      146.1       57.7        40.4       68.0     121.0   \n",
       "13392   34      M      164.0       66.1        19.5       82.0     150.0   \n",
       "\n",
       "       gripForce  sit and bend forward_cm  broad jump_cm class  \n",
       "13388       35.8                     17.4          198.0     C  \n",
       "13389       33.0                      1.1          167.0     D  \n",
       "13390       63.5                     16.4          229.0     A  \n",
       "13391       19.3                      9.2           75.0     D  \n",
       "13392       35.9                      7.1          180.0     C  "
      ]
     },
     "execution_count": 10,
     "metadata": {},
     "output_type": "execute_result"
    }
   ],
   "source": [
    "df.tail()"
   ]
  },
  {
   "cell_type": "code",
   "execution_count": 11,
   "id": "b58b73b0",
   "metadata": {},
   "outputs": [
    {
     "data": {
      "text/html": [
       "<div>\n",
       "<style scoped>\n",
       "    .dataframe tbody tr th:only-of-type {\n",
       "        vertical-align: middle;\n",
       "    }\n",
       "\n",
       "    .dataframe tbody tr th {\n",
       "        vertical-align: top;\n",
       "    }\n",
       "\n",
       "    .dataframe thead th {\n",
       "        text-align: right;\n",
       "    }\n",
       "</style>\n",
       "<table border=\"1\" class=\"dataframe\">\n",
       "  <thead>\n",
       "    <tr style=\"text-align: right;\">\n",
       "      <th></th>\n",
       "      <th>age</th>\n",
       "      <th>height_cm</th>\n",
       "      <th>weight_kg</th>\n",
       "      <th>body fat_%</th>\n",
       "      <th>diastolic</th>\n",
       "      <th>systolic</th>\n",
       "      <th>gripForce</th>\n",
       "      <th>sit and bend forward_cm</th>\n",
       "      <th>broad jump_cm</th>\n",
       "    </tr>\n",
       "  </thead>\n",
       "  <tbody>\n",
       "    <tr>\n",
       "      <th>count</th>\n",
       "      <td>13393.000000</td>\n",
       "      <td>13393.000000</td>\n",
       "      <td>13393.000000</td>\n",
       "      <td>13393.000000</td>\n",
       "      <td>13393.000000</td>\n",
       "      <td>13393.000000</td>\n",
       "      <td>13393.000000</td>\n",
       "      <td>13393.000000</td>\n",
       "      <td>13393.000000</td>\n",
       "    </tr>\n",
       "    <tr>\n",
       "      <th>mean</th>\n",
       "      <td>36.775106</td>\n",
       "      <td>168.559807</td>\n",
       "      <td>67.447316</td>\n",
       "      <td>23.240165</td>\n",
       "      <td>78.796842</td>\n",
       "      <td>130.234817</td>\n",
       "      <td>36.963877</td>\n",
       "      <td>15.209268</td>\n",
       "      <td>190.129627</td>\n",
       "    </tr>\n",
       "    <tr>\n",
       "      <th>std</th>\n",
       "      <td>13.625639</td>\n",
       "      <td>8.426583</td>\n",
       "      <td>11.949666</td>\n",
       "      <td>7.256844</td>\n",
       "      <td>10.742033</td>\n",
       "      <td>14.713954</td>\n",
       "      <td>10.624864</td>\n",
       "      <td>8.456677</td>\n",
       "      <td>39.868000</td>\n",
       "    </tr>\n",
       "    <tr>\n",
       "      <th>min</th>\n",
       "      <td>21.000000</td>\n",
       "      <td>125.000000</td>\n",
       "      <td>26.300000</td>\n",
       "      <td>3.000000</td>\n",
       "      <td>0.000000</td>\n",
       "      <td>0.000000</td>\n",
       "      <td>0.000000</td>\n",
       "      <td>-25.000000</td>\n",
       "      <td>0.000000</td>\n",
       "    </tr>\n",
       "    <tr>\n",
       "      <th>25%</th>\n",
       "      <td>25.000000</td>\n",
       "      <td>162.400000</td>\n",
       "      <td>58.200000</td>\n",
       "      <td>18.000000</td>\n",
       "      <td>71.000000</td>\n",
       "      <td>120.000000</td>\n",
       "      <td>27.500000</td>\n",
       "      <td>10.900000</td>\n",
       "      <td>162.000000</td>\n",
       "    </tr>\n",
       "    <tr>\n",
       "      <th>50%</th>\n",
       "      <td>32.000000</td>\n",
       "      <td>169.200000</td>\n",
       "      <td>67.400000</td>\n",
       "      <td>22.800000</td>\n",
       "      <td>79.000000</td>\n",
       "      <td>130.000000</td>\n",
       "      <td>37.900000</td>\n",
       "      <td>16.200000</td>\n",
       "      <td>193.000000</td>\n",
       "    </tr>\n",
       "    <tr>\n",
       "      <th>75%</th>\n",
       "      <td>48.000000</td>\n",
       "      <td>174.800000</td>\n",
       "      <td>75.300000</td>\n",
       "      <td>28.000000</td>\n",
       "      <td>86.000000</td>\n",
       "      <td>141.000000</td>\n",
       "      <td>45.200000</td>\n",
       "      <td>20.700000</td>\n",
       "      <td>221.000000</td>\n",
       "    </tr>\n",
       "    <tr>\n",
       "      <th>max</th>\n",
       "      <td>64.000000</td>\n",
       "      <td>193.800000</td>\n",
       "      <td>138.100000</td>\n",
       "      <td>78.400000</td>\n",
       "      <td>156.200000</td>\n",
       "      <td>201.000000</td>\n",
       "      <td>70.500000</td>\n",
       "      <td>213.000000</td>\n",
       "      <td>303.000000</td>\n",
       "    </tr>\n",
       "  </tbody>\n",
       "</table>\n",
       "</div>"
      ],
      "text/plain": [
       "                age     height_cm     weight_kg    body fat_%     diastolic  \\\n",
       "count  13393.000000  13393.000000  13393.000000  13393.000000  13393.000000   \n",
       "mean      36.775106    168.559807     67.447316     23.240165     78.796842   \n",
       "std       13.625639      8.426583     11.949666      7.256844     10.742033   \n",
       "min       21.000000    125.000000     26.300000      3.000000      0.000000   \n",
       "25%       25.000000    162.400000     58.200000     18.000000     71.000000   \n",
       "50%       32.000000    169.200000     67.400000     22.800000     79.000000   \n",
       "75%       48.000000    174.800000     75.300000     28.000000     86.000000   \n",
       "max       64.000000    193.800000    138.100000     78.400000    156.200000   \n",
       "\n",
       "           systolic     gripForce  sit and bend forward_cm  broad jump_cm  \n",
       "count  13393.000000  13393.000000             13393.000000   13393.000000  \n",
       "mean     130.234817     36.963877                15.209268     190.129627  \n",
       "std       14.713954     10.624864                 8.456677      39.868000  \n",
       "min        0.000000      0.000000               -25.000000       0.000000  \n",
       "25%      120.000000     27.500000                10.900000     162.000000  \n",
       "50%      130.000000     37.900000                16.200000     193.000000  \n",
       "75%      141.000000     45.200000                20.700000     221.000000  \n",
       "max      201.000000     70.500000               213.000000     303.000000  "
      ]
     },
     "execution_count": 11,
     "metadata": {},
     "output_type": "execute_result"
    }
   ],
   "source": [
    "df.describe()"
   ]
  },
  {
   "cell_type": "code",
   "execution_count": 12,
   "id": "0395aab4",
   "metadata": {},
   "outputs": [
    {
     "data": {
      "text/plain": [
       "False"
      ]
     },
     "execution_count": 12,
     "metadata": {},
     "output_type": "execute_result"
    }
   ],
   "source": [
    "df.isnull().any().any()"
   ]
  },
  {
   "cell_type": "code",
   "execution_count": 13,
   "id": "2d191397",
   "metadata": {},
   "outputs": [
    {
     "data": {
      "text/plain": [
       "age                          44\n",
       "gender                        2\n",
       "height_cm                   467\n",
       "weight_kg                  1398\n",
       "body fat_%                  527\n",
       "diastolic                    89\n",
       "systolic                    102\n",
       "gripForce                   550\n",
       "sit and bend forward_cm     528\n",
       "broad jump_cm               245\n",
       "class                         4\n",
       "dtype: int64"
      ]
     },
     "execution_count": 13,
     "metadata": {},
     "output_type": "execute_result"
    }
   ],
   "source": [
    "df.nunique()"
   ]
  },
  {
   "cell_type": "code",
   "execution_count": 14,
   "id": "066364bb",
   "metadata": {},
   "outputs": [
    {
     "name": "stdout",
     "output_type": "stream",
     "text": [
      "<class 'pandas.core.frame.DataFrame'>\n",
      "RangeIndex: 13393 entries, 0 to 13392\n",
      "Data columns (total 11 columns):\n",
      " #   Column                   Non-Null Count  Dtype  \n",
      "---  ------                   --------------  -----  \n",
      " 0   age                      13393 non-null  int64  \n",
      " 1   gender                   13393 non-null  object \n",
      " 2   height_cm                13393 non-null  float64\n",
      " 3   weight_kg                13393 non-null  float64\n",
      " 4   body fat_%               13393 non-null  float64\n",
      " 5   diastolic                13393 non-null  float64\n",
      " 6   systolic                 13393 non-null  float64\n",
      " 7   gripForce                13393 non-null  float64\n",
      " 8   sit and bend forward_cm  13393 non-null  float64\n",
      " 9   broad jump_cm            13393 non-null  float64\n",
      " 10  class                    13393 non-null  object \n",
      "dtypes: float64(8), int64(1), object(2)\n",
      "memory usage: 1.1+ MB\n"
     ]
    }
   ],
   "source": [
    "df.info()"
   ]
  },
  {
   "cell_type": "code",
   "execution_count": 15,
   "id": "4f46a4b0",
   "metadata": {},
   "outputs": [],
   "source": [
    "df['age']=df.age.astype(int)\n",
    "df['height_cm']=df.height_cm.astype(int)\n",
    "df['weight_kg']=df.weight_kg.astype(int)\n",
    "df['body fat_%']=df['body fat_%'].astype(int)\n",
    "df['diastolic']=df.diastolic.astype(int)\n",
    "df['systolic']=df.systolic.astype(int)\n",
    "df['gripForce']=df.gripForce.astype(int)"
   ]
  },
  {
   "cell_type": "code",
   "execution_count": 16,
   "id": "7549dcc7",
   "metadata": {},
   "outputs": [
    {
     "data": {
      "text/plain": [
       "<seaborn.axisgrid.FacetGrid at 0x207b577e6d0>"
      ]
     },
     "execution_count": 16,
     "metadata": {},
     "output_type": "execute_result"
    },
    {
     "data": {
      "image/png": "[encoded data removed]",
      "text/plain": [
       "<Figure size 360x360 with 1 Axes>"
      ]
     },
     "metadata": {
      "needs_background": "light"
     },
     "output_type": "display_data"
    }
   ],
   "source": [
    "sns.catplot(x='gender',data=df,kind='count')"
   ]
  },
  {
   "cell_type": "code",
   "execution_count": 17,
   "id": "2fe4425e",
   "metadata": {},
   "outputs": [
    {
     "data": {
      "text/plain": [
       "<AxesSubplot:>"
      ]
     },
     "execution_count": 17,
     "metadata": {},
     "output_type": "execute_result"
    },
    {
     "data": {
      "image/png": "[encoded data removed]",
      "text/plain": [
       "<Figure size 1080x720 with 1 Axes>"
      ]
     },
     "metadata": {
      "needs_background": "light"
     },
     "output_type": "display_data"
    }
   ],
   "source": [
    "plt.figure(figsize=(15,10))\n",
    "df.boxplot(vert=0)"
   ]
  },
  {
   "cell_type": "code",
   "execution_count": 18,
   "id": "0c63e45b",
   "metadata": {},
   "outputs": [],
   "source": [
    "df.columns = df.columns.str.replace('body fat_%', 'body_fat_per')"
   ]
  },
  {
   "cell_type": "code",
   "execution_count": 19,
   "id": "f4eef068",
   "metadata": {},
   "outputs": [],
   "source": [
    "df.columns = df.columns.str.replace('sit and bend forward_cm', 'sit_and_bend_forward_cm')"
   ]
  },
  {
   "cell_type": "code",
   "execution_count": 20,
   "id": "fabbd827",
   "metadata": {},
   "outputs": [],
   "source": [
    "df.columns = df.columns.str.replace('broad jump_cm', 'broad_jump_cm')"
   ]
  },
  {
   "cell_type": "code",
   "execution_count": 21,
   "id": "946f5d44",
   "metadata": {},
   "outputs": [
    {
     "data": {
      "text/plain": [
       "Index(['age', 'gender', 'height_cm', 'weight_kg', 'body_fat_per', 'diastolic',\n",
       "       'systolic', 'gripForce', 'sit_and_bend_forward_cm', 'broad_jump_cm',\n",
       "       'class'],\n",
       "      dtype='object')"
      ]
     },
     "execution_count": 21,
     "metadata": {},
     "output_type": "execute_result"
    }
   ],
   "source": [
    "df.columns"
   ]
  },
  {
   "cell_type": "code",
   "execution_count": 22,
   "id": "b9f54f68",
   "metadata": {},
   "outputs": [
    {
     "data": {
      "image/png": "[encoded data removed]",
      "text/plain": [
       "<Figure size 432x288 with 1 Axes>"
      ]
     },
     "metadata": {
      "needs_background": "light"
     },
     "output_type": "display_data"
    }
   ],
   "source": [
    "plt.boxplot(df.age)\n",
    "Q1 = df.age.quantile(0.25)\n",
    "Q3 = df.age.quantile(0.75)\n",
    "IQR = Q3 - Q1\n",
    "df = df[(df.age >= Q1 - 1.5*IQR) & (df.age <= Q3 + 1.5*IQR)]"
   ]
  },
  {
   "cell_type": "code",
   "execution_count": 23,
   "id": "78abc54c",
   "metadata": {},
   "outputs": [
    {
     "data": {
      "image/png": "[encoded data removed]",
      "text/plain": [
       "<Figure size 432x288 with 1 Axes>"
      ]
     },
     "metadata": {
      "needs_background": "light"
     },
     "output_type": "display_data"
    }
   ],
   "source": [
    "plt.boxplot(df.height_cm)\n",
    "Q1 = df.height_cm.quantile(0.25)\n",
    "Q3 = df.height_cm.quantile(0.75)\n",
    "IQR = Q3 - Q1\n",
    "df = df[(df.height_cm >= Q1 - 1.5*IQR) & (df.height_cm <= Q3 + 1.5*IQR)]"
   ]
  },
  {
   "cell_type": "code",
   "execution_count": 24,
   "id": "3ad5c910",
   "metadata": {},
   "outputs": [
    {
     "data": {
      "image/png": "[encoded data removed]",
      "text/plain": [
       "<Figure size 432x288 with 1 Axes>"
      ]
     },
     "metadata": {
      "needs_background": "light"
     },
     "output_type": "display_data"
    }
   ],
   "source": [
    "plt.boxplot(df.weight_kg)\n",
    "Q1 = df.weight_kg.quantile(0.25)\n",
    "Q3 = df.weight_kg.quantile(0.75)\n",
    "IQR = Q3 - Q1\n",
    "df = df[(df.weight_kg >= Q1 - 1.5*IQR) & (df.weight_kg <= Q3 + 1.5*IQR)]"
   ]
  },
  {
   "cell_type": "code",
   "execution_count": 25,
   "id": "d3bf8565",
   "metadata": {},
   "outputs": [
    {
     "data": {
      "image/png": "[encoded data removed]",
      "text/plain": [
       "<Figure size 432x288 with 1 Axes>"
      ]
     },
     "metadata": {
      "needs_background": "light"
     },
     "output_type": "display_data"
    }
   ],
   "source": [
    "plt.boxplot(df.body_fat_per)\n",
    "Q1 = df.body_fat_per.quantile(0.25)\n",
    "Q3 = df.body_fat_per.quantile(0.75)\n",
    "IQR = Q3 - Q1\n",
    "df = df[(df.body_fat_per >= Q1 - 1.5*IQR) & (df.body_fat_per <= Q3 + 1.5*IQR)]"
   ]
  },
  {
   "cell_type": "code",
   "execution_count": 26,
   "id": "32d6dcf0",
   "metadata": {},
   "outputs": [
    {
     "data": {
      "image/png": "[encoded data removed]",
      "text/plain": [
       "<Figure size 432x288 with 1 Axes>"
      ]
     },
     "metadata": {
      "needs_background": "light"
     },
     "output_type": "display_data"
    }
   ],
   "source": [
    "plt.boxplot(df.diastolic)\n",
    "Q1 = df.diastolic.quantile(0.25)\n",
    "Q3 = df.diastolic.quantile(0.75)\n",
    "IQR = Q3 - Q1\n",
    "df = df[(df.diastolic >= Q1 - 1.5*IQR) & (df.diastolic <= Q3 + 1.5*IQR)]"
   ]
  },
  {
   "cell_type": "code",
   "execution_count": 27,
   "id": "c02f6996",
   "metadata": {},
   "outputs": [
    {
     "data": {
      "image/png": "[encoded data removed]",
      "text/plain": [
       "<Figure size 432x288 with 1 Axes>"
      ]
     },
     "metadata": {
      "needs_background": "light"
     },
     "output_type": "display_data"
    }
   ],
   "source": [
    "plt.boxplot(df.systolic)\n",
    "Q1 = df.systolic.quantile(0.25)\n",
    "Q3 = df.systolic.quantile(0.75)\n",
    "IQR = Q3 - Q1\n",
    "df = df[(df.systolic >= Q1 - 1.5*IQR) & (df.systolic <= Q3 + 1.5*IQR)]"
   ]
  },
  {
   "cell_type": "code",
   "execution_count": 28,
   "id": "399aedb0",
   "metadata": {},
   "outputs": [
    {
     "data": {
      "image/png": "[encoded data removed]",
      "text/plain": [
       "<Figure size 432x288 with 1 Axes>"
      ]
     },
     "metadata": {
      "needs_background": "light"
     },
     "output_type": "display_data"
    }
   ],
   "source": [
    "plt.boxplot(df.gripForce)\n",
    "Q1 = df.gripForce.quantile(0.25)\n",
    "Q3 = df.gripForce.quantile(0.75)\n",
    "IQR = Q3 - Q1\n",
    "df = df[(df.gripForce >= Q1 - 1.5*IQR) & (df.gripForce <= Q3 + 1.5*IQR)]"
   ]
  },
  {
   "cell_type": "code",
   "execution_count": 29,
   "id": "a10ca8f3",
   "metadata": {},
   "outputs": [
    {
     "data": {
      "image/png": "[encoded data removed]",
      "text/plain": [
       "<Figure size 432x288 with 1 Axes>"
      ]
     },
     "metadata": {
      "needs_background": "light"
     },
     "output_type": "display_data"
    }
   ],
   "source": [
    "plt.boxplot(df.sit_and_bend_forward_cm)\n",
    "Q1 = df.sit_and_bend_forward_cm.quantile(0.25)\n",
    "Q3 = df.sit_and_bend_forward_cm.quantile(0.75)\n",
    "IQR = Q3 - Q1\n",
    "df = df[(df.sit_and_bend_forward_cm >= Q1 - 1.5*IQR) & (df.sit_and_bend_forward_cm <= Q3 + 1.5*IQR)]"
   ]
  },
  {
   "cell_type": "code",
   "execution_count": 30,
   "id": "fc9c5ea3",
   "metadata": {},
   "outputs": [
    {
     "data": {
      "image/png": "[encoded data removed]",
      "text/plain": [
       "<Figure size 432x288 with 1 Axes>"
      ]
     },
     "metadata": {
      "needs_background": "light"
     },
     "output_type": "display_data"
    }
   ],
   "source": [
    "plt.boxplot(df.broad_jump_cm)\n",
    "Q1 = df.broad_jump_cm.quantile(0.25)\n",
    "Q3 = df.broad_jump_cm.quantile(0.75)\n",
    "IQR = Q3 - Q1\n",
    "df = df[(df.broad_jump_cm >= Q1 - 1.5*IQR) & (df.broad_jump_cm <= Q3 + 1.5*IQR)]"
   ]
  },
  {
   "cell_type": "code",
   "execution_count": 31,
   "id": "ed2e047b",
   "metadata": {},
   "outputs": [
    {
     "data": {
      "text/plain": [
       "<AxesSubplot:>"
      ]
     },
     "execution_count": 31,
     "metadata": {},
     "output_type": "execute_result"
    },
    {
     "data": {
      "image/png": "[encoded data removed]",
      "text/plain": [
       "<Figure size 864x720 with 2 Axes>"
      ]
     },
     "metadata": {
      "needs_background": "light"
     },
     "output_type": "display_data"
    }
   ],
   "source": [
    "plt.figure(figsize=(12,10))\n",
    "sns.heatmap(df.corr(),color = \"k\", annot=True)"
   ]
  },
  {
   "cell_type": "code",
   "execution_count": 32,
   "id": "250ea537",
   "metadata": {},
   "outputs": [
    {
     "data": {
      "text/html": [
       "<div>\n",
       "<style scoped>\n",
       "    .dataframe tbody tr th:only-of-type {\n",
       "        vertical-align: middle;\n",
       "    }\n",
       "\n",
       "    .dataframe tbody tr th {\n",
       "        vertical-align: top;\n",
       "    }\n",
       "\n",
       "    .dataframe thead th {\n",
       "        text-align: right;\n",
       "    }\n",
       "</style>\n",
       "<table border=\"1\" class=\"dataframe\">\n",
       "  <thead>\n",
       "    <tr style=\"text-align: right;\">\n",
       "      <th></th>\n",
       "      <th>age</th>\n",
       "      <th>height_cm</th>\n",
       "      <th>weight_kg</th>\n",
       "      <th>body_fat_per</th>\n",
       "      <th>diastolic</th>\n",
       "      <th>systolic</th>\n",
       "      <th>gripForce</th>\n",
       "      <th>sit_and_bend_forward_cm</th>\n",
       "      <th>broad_jump_cm</th>\n",
       "    </tr>\n",
       "  </thead>\n",
       "  <tbody>\n",
       "    <tr>\n",
       "      <th>age</th>\n",
       "      <td>1.000000</td>\n",
       "      <td>-0.280179</td>\n",
       "      <td>-0.095281</td>\n",
       "      <td>0.235900</td>\n",
       "      <td>0.159217</td>\n",
       "      <td>0.206170</td>\n",
       "      <td>-0.167809</td>\n",
       "      <td>-0.091905</td>\n",
       "      <td>-0.429569</td>\n",
       "    </tr>\n",
       "    <tr>\n",
       "      <th>height_cm</th>\n",
       "      <td>-0.280179</td>\n",
       "      <td>1.000000</td>\n",
       "      <td>0.755140</td>\n",
       "      <td>-0.533517</td>\n",
       "      <td>0.150363</td>\n",
       "      <td>0.220266</td>\n",
       "      <td>0.734771</td>\n",
       "      <td>-0.238371</td>\n",
       "      <td>0.686898</td>\n",
       "    </tr>\n",
       "    <tr>\n",
       "      <th>weight_kg</th>\n",
       "      <td>-0.095281</td>\n",
       "      <td>0.755140</td>\n",
       "      <td>1.000000</td>\n",
       "      <td>-0.156181</td>\n",
       "      <td>0.260649</td>\n",
       "      <td>0.346149</td>\n",
       "      <td>0.733498</td>\n",
       "      <td>-0.300725</td>\n",
       "      <td>0.537713</td>\n",
       "    </tr>\n",
       "    <tr>\n",
       "      <th>body_fat_per</th>\n",
       "      <td>0.235900</td>\n",
       "      <td>-0.533517</td>\n",
       "      <td>-0.156181</td>\n",
       "      <td>1.000000</td>\n",
       "      <td>0.036379</td>\n",
       "      <td>-0.050841</td>\n",
       "      <td>-0.550716</td>\n",
       "      <td>-0.022721</td>\n",
       "      <td>-0.673132</td>\n",
       "    </tr>\n",
       "    <tr>\n",
       "      <th>diastolic</th>\n",
       "      <td>0.159217</td>\n",
       "      <td>0.150363</td>\n",
       "      <td>0.260649</td>\n",
       "      <td>0.036379</td>\n",
       "      <td>1.000000</td>\n",
       "      <td>0.674730</td>\n",
       "      <td>0.208887</td>\n",
       "      <td>-0.087333</td>\n",
       "      <td>0.106921</td>\n",
       "    </tr>\n",
       "    <tr>\n",
       "      <th>systolic</th>\n",
       "      <td>0.206170</td>\n",
       "      <td>0.220266</td>\n",
       "      <td>0.346149</td>\n",
       "      <td>-0.050841</td>\n",
       "      <td>0.674730</td>\n",
       "      <td>1.000000</td>\n",
       "      <td>0.296700</td>\n",
       "      <td>-0.105852</td>\n",
       "      <td>0.169868</td>\n",
       "    </tr>\n",
       "    <tr>\n",
       "      <th>gripForce</th>\n",
       "      <td>-0.167809</td>\n",
       "      <td>0.734771</td>\n",
       "      <td>0.733498</td>\n",
       "      <td>-0.550716</td>\n",
       "      <td>0.208887</td>\n",
       "      <td>0.296700</td>\n",
       "      <td>1.000000</td>\n",
       "      <td>-0.157265</td>\n",
       "      <td>0.752955</td>\n",
       "    </tr>\n",
       "    <tr>\n",
       "      <th>sit_and_bend_forward_cm</th>\n",
       "      <td>-0.091905</td>\n",
       "      <td>-0.238371</td>\n",
       "      <td>-0.300725</td>\n",
       "      <td>-0.022721</td>\n",
       "      <td>-0.087333</td>\n",
       "      <td>-0.105852</td>\n",
       "      <td>-0.157265</td>\n",
       "      <td>1.000000</td>\n",
       "      <td>-0.024215</td>\n",
       "    </tr>\n",
       "    <tr>\n",
       "      <th>broad_jump_cm</th>\n",
       "      <td>-0.429569</td>\n",
       "      <td>0.686898</td>\n",
       "      <td>0.537713</td>\n",
       "      <td>-0.673132</td>\n",
       "      <td>0.106921</td>\n",
       "      <td>0.169868</td>\n",
       "      <td>0.752955</td>\n",
       "      <td>-0.024215</td>\n",
       "      <td>1.000000</td>\n",
       "    </tr>\n",
       "  </tbody>\n",
       "</table>\n",
       "</div>"
      ],
      "text/plain": [
       "                              age  height_cm  weight_kg  body_fat_per  \\\n",
       "age                      1.000000  -0.280179  -0.095281      0.235900   \n",
       "height_cm               -0.280179   1.000000   0.755140     -0.533517   \n",
       "weight_kg               -0.095281   0.755140   1.000000     -0.156181   \n",
       "body_fat_per             0.235900  -0.533517  -0.156181      1.000000   \n",
       "diastolic                0.159217   0.150363   0.260649      0.036379   \n",
       "systolic                 0.206170   0.220266   0.346149     -0.050841   \n",
       "gripForce               -0.167809   0.734771   0.733498     -0.550716   \n",
       "sit_and_bend_forward_cm -0.091905  -0.238371  -0.300725     -0.022721   \n",
       "broad_jump_cm           -0.429569   0.686898   0.537713     -0.673132   \n",
       "\n",
       "                         diastolic  systolic  gripForce  \\\n",
       "age                       0.159217  0.206170  -0.167809   \n",
       "height_cm                 0.150363  0.220266   0.734771   \n",
       "weight_kg                 0.260649  0.346149   0.733498   \n",
       "body_fat_per              0.036379 -0.050841  -0.550716   \n",
       "diastolic                 1.000000  0.674730   0.208887   \n",
       "systolic                  0.674730  1.000000   0.296700   \n",
       "gripForce                 0.208887  0.296700   1.000000   \n",
       "sit_and_bend_forward_cm  -0.087333 -0.105852  -0.157265   \n",
       "broad_jump_cm             0.106921  0.169868   0.752955   \n",
       "\n",
       "                         sit_and_bend_forward_cm  broad_jump_cm  \n",
       "age                                    -0.091905      -0.429569  \n",
       "height_cm                              -0.238371       0.686898  \n",
       "weight_kg                              -0.300725       0.537713  \n",
       "body_fat_per                           -0.022721      -0.673132  \n",
       "diastolic                              -0.087333       0.106921  \n",
       "systolic                               -0.105852       0.169868  \n",
       "gripForce                              -0.157265       0.752955  \n",
       "sit_and_bend_forward_cm                 1.000000      -0.024215  \n",
       "broad_jump_cm                          -0.024215       1.000000  "
      ]
     },
     "execution_count": 32,
     "metadata": {},
     "output_type": "execute_result"
    }
   ],
   "source": [
    "df.corr()"
   ]
  },
  {
   "cell_type": "code",
   "execution_count": 33,
   "id": "106c15ed",
   "metadata": {},
   "outputs": [
    {
     "data": {
      "image/png": "[encoded data removed]",
      "text/plain": [
       "<Figure size 1008x1152 with 9 Axes>"
      ]
     },
     "metadata": {
      "needs_background": "light"
     },
     "output_type": "display_data"
    }
   ],
   "source": [
    "df.hist(bins=100,figsize=(14,16))\n",
    "plt.show()"
   ]
  },
  {
   "cell_type": "code",
   "execution_count": 34,
   "id": "2e1ecb74",
   "metadata": {},
   "outputs": [],
   "source": [
    "from sklearn.preprocessing import MinMaxScaler\n",
    "scaler = MinMaxScaler()"
   ]
  },
  {
   "cell_type": "code",
   "execution_count": 35,
   "id": "d96ad1bf",
   "metadata": {},
   "outputs": [],
   "source": [
    "Norm_scale=['age','height_cm','weight_kg','body_fat_per','diastolic','systolic','gripForce','sit_and_bend_forward_cm','broad_jump_cm']"
   ]
  },
  {
   "cell_type": "code",
   "execution_count": 36,
   "id": "99b1369c",
   "metadata": {},
   "outputs": [],
   "source": [
    "df[Norm_scale]=scaler.fit_transform(df[Norm_scale])"
   ]
  },
  {
   "cell_type": "code",
   "execution_count": 37,
   "id": "2f6f48ae",
   "metadata": {},
   "outputs": [
    {
     "data": {
      "text/html": [
       "<div>\n",
       "<style scoped>\n",
       "    .dataframe tbody tr th:only-of-type {\n",
       "        vertical-align: middle;\n",
       "    }\n",
       "\n",
       "    .dataframe tbody tr th {\n",
       "        vertical-align: top;\n",
       "    }\n",
       "\n",
       "    .dataframe thead th {\n",
       "        text-align: right;\n",
       "    }\n",
       "</style>\n",
       "<table border=\"1\" class=\"dataframe\">\n",
       "  <thead>\n",
       "    <tr style=\"text-align: right;\">\n",
       "      <th></th>\n",
       "      <th>age</th>\n",
       "      <th>gender</th>\n",
       "      <th>height_cm</th>\n",
       "      <th>weight_kg</th>\n",
       "      <th>body_fat_per</th>\n",
       "      <th>diastolic</th>\n",
       "      <th>systolic</th>\n",
       "      <th>gripForce</th>\n",
       "      <th>sit_and_bend_forward_cm</th>\n",
       "      <th>broad_jump_cm</th>\n",
       "      <th>class</th>\n",
       "    </tr>\n",
       "  </thead>\n",
       "  <tbody>\n",
       "    <tr>\n",
       "      <th>0</th>\n",
       "      <td>0.139535</td>\n",
       "      <td>M</td>\n",
       "      <td>0.595745</td>\n",
       "      <td>0.621212</td>\n",
       "      <td>0.457143</td>\n",
       "      <td>0.525424</td>\n",
       "      <td>0.500000</td>\n",
       "      <td>0.771429</td>\n",
       "      <td>0.568123</td>\n",
       "      <td>0.622807</td>\n",
       "      <td>C</td>\n",
       "    </tr>\n",
       "    <tr>\n",
       "      <th>1</th>\n",
       "      <td>0.093023</td>\n",
       "      <td>M</td>\n",
       "      <td>0.446809</td>\n",
       "      <td>0.318182</td>\n",
       "      <td>0.285714</td>\n",
       "      <td>0.474576</td>\n",
       "      <td>0.451220</td>\n",
       "      <td>0.514286</td>\n",
       "      <td>0.514139</td>\n",
       "      <td>0.675439</td>\n",
       "      <td>A</td>\n",
       "    </tr>\n",
       "    <tr>\n",
       "      <th>2</th>\n",
       "      <td>0.232558</td>\n",
       "      <td>M</td>\n",
       "      <td>0.744681</td>\n",
       "      <td>0.666667</td>\n",
       "      <td>0.428571</td>\n",
       "      <td>0.728814</td>\n",
       "      <td>0.768293</td>\n",
       "      <td>0.628571</td>\n",
       "      <td>0.403599</td>\n",
       "      <td>0.464912</td>\n",
       "      <td>C</td>\n",
       "    </tr>\n",
       "    <tr>\n",
       "      <th>3</th>\n",
       "      <td>0.255814</td>\n",
       "      <td>M</td>\n",
       "      <td>0.638298</td>\n",
       "      <td>0.560606</td>\n",
       "      <td>0.371429</td>\n",
       "      <td>0.457627</td>\n",
       "      <td>0.707317</td>\n",
       "      <td>0.585714</td>\n",
       "      <td>0.485861</td>\n",
       "      <td>0.631579</td>\n",
       "      <td>B</td>\n",
       "    </tr>\n",
       "    <tr>\n",
       "      <th>4</th>\n",
       "      <td>0.162791</td>\n",
       "      <td>M</td>\n",
       "      <td>0.617021</td>\n",
       "      <td>0.500000</td>\n",
       "      <td>0.342857</td>\n",
       "      <td>0.355932</td>\n",
       "      <td>0.463415</td>\n",
       "      <td>0.614286</td>\n",
       "      <td>0.791774</td>\n",
       "      <td>0.622807</td>\n",
       "      <td>B</td>\n",
       "    </tr>\n",
       "    <tr>\n",
       "      <th>...</th>\n",
       "      <td>...</td>\n",
       "      <td>...</td>\n",
       "      <td>...</td>\n",
       "      <td>...</td>\n",
       "      <td>...</td>\n",
       "      <td>...</td>\n",
       "      <td>...</td>\n",
       "      <td>...</td>\n",
       "      <td>...</td>\n",
       "      <td>...</td>\n",
       "      <td>...</td>\n",
       "    </tr>\n",
       "    <tr>\n",
       "      <th>13388</th>\n",
       "      <td>0.093023</td>\n",
       "      <td>M</td>\n",
       "      <td>0.595745</td>\n",
       "      <td>0.560606</td>\n",
       "      <td>0.314286</td>\n",
       "      <td>0.423729</td>\n",
       "      <td>0.634146</td>\n",
       "      <td>0.500000</td>\n",
       "      <td>0.542416</td>\n",
       "      <td>0.539474</td>\n",
       "      <td>C</td>\n",
       "    </tr>\n",
       "    <tr>\n",
       "      <th>13389</th>\n",
       "      <td>0.000000</td>\n",
       "      <td>M</td>\n",
       "      <td>0.744681</td>\n",
       "      <td>0.439394</td>\n",
       "      <td>0.200000</td>\n",
       "      <td>0.423729</td>\n",
       "      <td>0.475610</td>\n",
       "      <td>0.471429</td>\n",
       "      <td>0.123393</td>\n",
       "      <td>0.403509</td>\n",
       "      <td>D</td>\n",
       "    </tr>\n",
       "    <tr>\n",
       "      <th>13390</th>\n",
       "      <td>0.418605</td>\n",
       "      <td>M</td>\n",
       "      <td>0.702128</td>\n",
       "      <td>0.696970</td>\n",
       "      <td>0.428571</td>\n",
       "      <td>0.491525</td>\n",
       "      <td>0.524390</td>\n",
       "      <td>0.900000</td>\n",
       "      <td>0.516710</td>\n",
       "      <td>0.675439</td>\n",
       "      <td>A</td>\n",
       "    </tr>\n",
       "    <tr>\n",
       "      <th>13391</th>\n",
       "      <td>1.000000</td>\n",
       "      <td>F</td>\n",
       "      <td>0.042553</td>\n",
       "      <td>0.348485</td>\n",
       "      <td>1.000000</td>\n",
       "      <td>0.322034</td>\n",
       "      <td>0.390244</td>\n",
       "      <td>0.271429</td>\n",
       "      <td>0.331620</td>\n",
       "      <td>0.000000</td>\n",
       "      <td>D</td>\n",
       "    </tr>\n",
       "    <tr>\n",
       "      <th>13392</th>\n",
       "      <td>0.302326</td>\n",
       "      <td>M</td>\n",
       "      <td>0.425532</td>\n",
       "      <td>0.484848</td>\n",
       "      <td>0.400000</td>\n",
       "      <td>0.559322</td>\n",
       "      <td>0.743902</td>\n",
       "      <td>0.500000</td>\n",
       "      <td>0.277635</td>\n",
       "      <td>0.460526</td>\n",
       "      <td>C</td>\n",
       "    </tr>\n",
       "  </tbody>\n",
       "</table>\n",
       "<p>12664 rows × 11 columns</p>\n",
       "</div>"
      ],
      "text/plain": [
       "            age gender  height_cm  weight_kg  body_fat_per  diastolic  \\\n",
       "0      0.139535      M   0.595745   0.621212      0.457143   0.525424   \n",
       "1      0.093023      M   0.446809   0.318182      0.285714   0.474576   \n",
       "2      0.232558      M   0.744681   0.666667      0.428571   0.728814   \n",
       "3      0.255814      M   0.638298   0.560606      0.371429   0.457627   \n",
       "4      0.162791      M   0.617021   0.500000      0.342857   0.355932   \n",
       "...         ...    ...        ...        ...           ...        ...   \n",
       "13388  0.093023      M   0.595745   0.560606      0.314286   0.423729   \n",
       "13389  0.000000      M   0.744681   0.439394      0.200000   0.423729   \n",
       "13390  0.418605      M   0.702128   0.696970      0.428571   0.491525   \n",
       "13391  1.000000      F   0.042553   0.348485      1.000000   0.322034   \n",
       "13392  0.302326      M   0.425532   0.484848      0.400000   0.559322   \n",
       "\n",
       "       systolic  gripForce  sit_and_bend_forward_cm  broad_jump_cm class  \n",
       "0      0.500000   0.771429                 0.568123       0.622807     C  \n",
       "1      0.451220   0.514286                 0.514139       0.675439     A  \n",
       "2      0.768293   0.628571                 0.403599       0.464912     C  \n",
       "3      0.707317   0.585714                 0.485861       0.631579     B  \n",
       "4      0.463415   0.614286                 0.791774       0.622807     B  \n",
       "...         ...        ...                      ...            ...   ...  \n",
       "13388  0.634146   0.500000                 0.542416       0.539474     C  \n",
       "13389  0.475610   0.471429                 0.123393       0.403509     D  \n",
       "13390  0.524390   0.900000                 0.516710       0.675439     A  \n",
       "13391  0.390244   0.271429                 0.331620       0.000000     D  \n",
       "13392  0.743902   0.500000                 0.277635       0.460526     C  \n",
       "\n",
       "[12664 rows x 11 columns]"
      ]
     },
     "execution_count": 37,
     "metadata": {},
     "output_type": "execute_result"
    }
   ],
   "source": [
    "df"
   ]
  },
  {
   "cell_type": "code",
   "execution_count": 38,
   "id": "38fd62c4",
   "metadata": {},
   "outputs": [
    {
     "data": {
      "text/plain": [
       "M    7992\n",
       "F    4672\n",
       "Name: gender, dtype: int64"
      ]
     },
     "execution_count": 38,
     "metadata": {},
     "output_type": "execute_result"
    }
   ],
   "source": [
    "df['gender'].value_counts()"
   ]
  },
  {
   "cell_type": "code",
   "execution_count": 39,
   "id": "b6ade82a",
   "metadata": {},
   "outputs": [
    {
     "data": {
      "text/plain": [
       "C    3319\n",
       "A    3316\n",
       "B    3310\n",
       "D    2719\n",
       "Name: class, dtype: int64"
      ]
     },
     "execution_count": 39,
     "metadata": {},
     "output_type": "execute_result"
    }
   ],
   "source": [
    "df['class'].value_counts()"
   ]
  },
  {
   "cell_type": "code",
   "execution_count": 40,
   "id": "db159937",
   "metadata": {},
   "outputs": [],
   "source": [
    "df.replace(\"M\", 0 , inplace = True)\n",
    "df.replace(\"F\", 1 , inplace = True)"
   ]
  },
  {
   "cell_type": "code",
   "execution_count": 41,
   "id": "be6dc20a",
   "metadata": {},
   "outputs": [],
   "source": [
    "df.replace(\"A\", 0 , inplace = True)\n",
    "df.replace(\"B\", 1 , inplace = True)\n",
    "df.replace(\"C\", 2 , inplace = True)\n",
    "df.replace(\"D\", 3 , inplace = True)"
   ]
  },
  {
   "cell_type": "code",
   "execution_count": 42,
   "id": "b55c3163",
   "metadata": {},
   "outputs": [
    {
     "data": {
      "text/html": [
       "<div>\n",
       "<style scoped>\n",
       "    .dataframe tbody tr th:only-of-type {\n",
       "        vertical-align: middle;\n",
       "    }\n",
       "\n",
       "    .dataframe tbody tr th {\n",
       "        vertical-align: top;\n",
       "    }\n",
       "\n",
       "    .dataframe thead th {\n",
       "        text-align: right;\n",
       "    }\n",
       "</style>\n",
       "<table border=\"1\" class=\"dataframe\">\n",
       "  <thead>\n",
       "    <tr style=\"text-align: right;\">\n",
       "      <th></th>\n",
       "      <th>age</th>\n",
       "      <th>gender</th>\n",
       "      <th>height_cm</th>\n",
       "      <th>weight_kg</th>\n",
       "      <th>body_fat_per</th>\n",
       "      <th>diastolic</th>\n",
       "      <th>systolic</th>\n",
       "      <th>gripForce</th>\n",
       "      <th>sit_and_bend_forward_cm</th>\n",
       "      <th>broad_jump_cm</th>\n",
       "      <th>class</th>\n",
       "    </tr>\n",
       "  </thead>\n",
       "  <tbody>\n",
       "    <tr>\n",
       "      <th>0</th>\n",
       "      <td>0.139535</td>\n",
       "      <td>0</td>\n",
       "      <td>0.595745</td>\n",
       "      <td>0.621212</td>\n",
       "      <td>0.457143</td>\n",
       "      <td>0.525424</td>\n",
       "      <td>0.500000</td>\n",
       "      <td>0.771429</td>\n",
       "      <td>0.568123</td>\n",
       "      <td>0.622807</td>\n",
       "      <td>2</td>\n",
       "    </tr>\n",
       "    <tr>\n",
       "      <th>1</th>\n",
       "      <td>0.093023</td>\n",
       "      <td>0</td>\n",
       "      <td>0.446809</td>\n",
       "      <td>0.318182</td>\n",
       "      <td>0.285714</td>\n",
       "      <td>0.474576</td>\n",
       "      <td>0.451220</td>\n",
       "      <td>0.514286</td>\n",
       "      <td>0.514139</td>\n",
       "      <td>0.675439</td>\n",
       "      <td>0</td>\n",
       "    </tr>\n",
       "    <tr>\n",
       "      <th>2</th>\n",
       "      <td>0.232558</td>\n",
       "      <td>0</td>\n",
       "      <td>0.744681</td>\n",
       "      <td>0.666667</td>\n",
       "      <td>0.428571</td>\n",
       "      <td>0.728814</td>\n",
       "      <td>0.768293</td>\n",
       "      <td>0.628571</td>\n",
       "      <td>0.403599</td>\n",
       "      <td>0.464912</td>\n",
       "      <td>2</td>\n",
       "    </tr>\n",
       "    <tr>\n",
       "      <th>3</th>\n",
       "      <td>0.255814</td>\n",
       "      <td>0</td>\n",
       "      <td>0.638298</td>\n",
       "      <td>0.560606</td>\n",
       "      <td>0.371429</td>\n",
       "      <td>0.457627</td>\n",
       "      <td>0.707317</td>\n",
       "      <td>0.585714</td>\n",
       "      <td>0.485861</td>\n",
       "      <td>0.631579</td>\n",
       "      <td>1</td>\n",
       "    </tr>\n",
       "    <tr>\n",
       "      <th>4</th>\n",
       "      <td>0.162791</td>\n",
       "      <td>0</td>\n",
       "      <td>0.617021</td>\n",
       "      <td>0.500000</td>\n",
       "      <td>0.342857</td>\n",
       "      <td>0.355932</td>\n",
       "      <td>0.463415</td>\n",
       "      <td>0.614286</td>\n",
       "      <td>0.791774</td>\n",
       "      <td>0.622807</td>\n",
       "      <td>1</td>\n",
       "    </tr>\n",
       "    <tr>\n",
       "      <th>...</th>\n",
       "      <td>...</td>\n",
       "      <td>...</td>\n",
       "      <td>...</td>\n",
       "      <td>...</td>\n",
       "      <td>...</td>\n",
       "      <td>...</td>\n",
       "      <td>...</td>\n",
       "      <td>...</td>\n",
       "      <td>...</td>\n",
       "      <td>...</td>\n",
       "      <td>...</td>\n",
       "    </tr>\n",
       "    <tr>\n",
       "      <th>13388</th>\n",
       "      <td>0.093023</td>\n",
       "      <td>0</td>\n",
       "      <td>0.595745</td>\n",
       "      <td>0.560606</td>\n",
       "      <td>0.314286</td>\n",
       "      <td>0.423729</td>\n",
       "      <td>0.634146</td>\n",
       "      <td>0.500000</td>\n",
       "      <td>0.542416</td>\n",
       "      <td>0.539474</td>\n",
       "      <td>2</td>\n",
       "    </tr>\n",
       "    <tr>\n",
       "      <th>13389</th>\n",
       "      <td>0.000000</td>\n",
       "      <td>0</td>\n",
       "      <td>0.744681</td>\n",
       "      <td>0.439394</td>\n",
       "      <td>0.200000</td>\n",
       "      <td>0.423729</td>\n",
       "      <td>0.475610</td>\n",
       "      <td>0.471429</td>\n",
       "      <td>0.123393</td>\n",
       "      <td>0.403509</td>\n",
       "      <td>3</td>\n",
       "    </tr>\n",
       "    <tr>\n",
       "      <th>13390</th>\n",
       "      <td>0.418605</td>\n",
       "      <td>0</td>\n",
       "      <td>0.702128</td>\n",
       "      <td>0.696970</td>\n",
       "      <td>0.428571</td>\n",
       "      <td>0.491525</td>\n",
       "      <td>0.524390</td>\n",
       "      <td>0.900000</td>\n",
       "      <td>0.516710</td>\n",
       "      <td>0.675439</td>\n",
       "      <td>0</td>\n",
       "    </tr>\n",
       "    <tr>\n",
       "      <th>13391</th>\n",
       "      <td>1.000000</td>\n",
       "      <td>1</td>\n",
       "      <td>0.042553</td>\n",
       "      <td>0.348485</td>\n",
       "      <td>1.000000</td>\n",
       "      <td>0.322034</td>\n",
       "      <td>0.390244</td>\n",
       "      <td>0.271429</td>\n",
       "      <td>0.331620</td>\n",
       "      <td>0.000000</td>\n",
       "      <td>3</td>\n",
       "    </tr>\n",
       "    <tr>\n",
       "      <th>13392</th>\n",
       "      <td>0.302326</td>\n",
       "      <td>0</td>\n",
       "      <td>0.425532</td>\n",
       "      <td>0.484848</td>\n",
       "      <td>0.400000</td>\n",
       "      <td>0.559322</td>\n",
       "      <td>0.743902</td>\n",
       "      <td>0.500000</td>\n",
       "      <td>0.277635</td>\n",
       "      <td>0.460526</td>\n",
       "      <td>2</td>\n",
       "    </tr>\n",
       "  </tbody>\n",
       "</table>\n",
       "<p>12664 rows × 11 columns</p>\n",
       "</div>"
      ],
      "text/plain": [
       "            age  gender  height_cm  weight_kg  body_fat_per  diastolic  \\\n",
       "0      0.139535       0   0.595745   0.621212      0.457143   0.525424   \n",
       "1      0.093023       0   0.446809   0.318182      0.285714   0.474576   \n",
       "2      0.232558       0   0.744681   0.666667      0.428571   0.728814   \n",
       "3      0.255814       0   0.638298   0.560606      0.371429   0.457627   \n",
       "4      0.162791       0   0.617021   0.500000      0.342857   0.355932   \n",
       "...         ...     ...        ...        ...           ...        ...   \n",
       "13388  0.093023       0   0.595745   0.560606      0.314286   0.423729   \n",
       "13389  0.000000       0   0.744681   0.439394      0.200000   0.423729   \n",
       "13390  0.418605       0   0.702128   0.696970      0.428571   0.491525   \n",
       "13391  1.000000       1   0.042553   0.348485      1.000000   0.322034   \n",
       "13392  0.302326       0   0.425532   0.484848      0.400000   0.559322   \n",
       "\n",
       "       systolic  gripForce  sit_and_bend_forward_cm  broad_jump_cm  class  \n",
       "0      0.500000   0.771429                 0.568123       0.622807      2  \n",
       "1      0.451220   0.514286                 0.514139       0.675439      0  \n",
       "2      0.768293   0.628571                 0.403599       0.464912      2  \n",
       "3      0.707317   0.585714                 0.485861       0.631579      1  \n",
       "4      0.463415   0.614286                 0.791774       0.622807      1  \n",
       "...         ...        ...                      ...            ...    ...  \n",
       "13388  0.634146   0.500000                 0.542416       0.539474      2  \n",
       "13389  0.475610   0.471429                 0.123393       0.403509      3  \n",
       "13390  0.524390   0.900000                 0.516710       0.675439      0  \n",
       "13391  0.390244   0.271429                 0.331620       0.000000      3  \n",
       "13392  0.743902   0.500000                 0.277635       0.460526      2  \n",
       "\n",
       "[12664 rows x 11 columns]"
      ]
     },
     "execution_count": 42,
     "metadata": {},
     "output_type": "execute_result"
    }
   ],
   "source": [
    "df"
   ]
  },
  {
   "cell_type": "code",
   "execution_count": 43,
   "id": "539b2df0",
   "metadata": {},
   "outputs": [],
   "source": [
    "from sklearn.ensemble import RandomForestClassifier"
   ]
  },
  {
   "cell_type": "code",
   "execution_count": 44,
   "id": "16ca6a60",
   "metadata": {},
   "outputs": [],
   "source": [
    "rfc = RandomForestClassifier()"
   ]
  },
  {
   "cell_type": "code",
   "execution_count": 45,
   "id": "c1d4ab71",
   "metadata": {},
   "outputs": [],
   "source": [
    "Y = df['gender']\n",
    "X = df[['age','height_cm','weight_kg','body_fat_per','diastolic','systolic','gripForce','sit_and_bend_forward_cm','broad_jump_cm','class']]"
   ]
  },
  {
   "cell_type": "code",
   "execution_count": 46,
   "id": "3946e24b",
   "metadata": {},
   "outputs": [],
   "source": [
    "from sklearn.model_selection import train_test_split"
   ]
  },
  {
   "cell_type": "code",
   "execution_count": 47,
   "id": "3da8d376",
   "metadata": {},
   "outputs": [],
   "source": [
    "from sklearn.metrics import accuracy_score"
   ]
  },
  {
   "cell_type": "code",
   "execution_count": 48,
   "id": "3c63d5be",
   "metadata": {},
   "outputs": [],
   "source": [
    "from sklearn import metrics"
   ]
  },
  {
   "cell_type": "code",
   "execution_count": 49,
   "id": "6f73a0d6",
   "metadata": {},
   "outputs": [],
   "source": [
    "X_train, X_test, y_Train, y_test = train_test_split(X,Y,test_size=0.2, random_state=42)"
   ]
  },
  {
   "cell_type": "code",
   "execution_count": 50,
   "id": "d6a17726",
   "metadata": {},
   "outputs": [
    {
     "name": "stdout",
     "output_type": "stream",
     "text": [
      "Requirement already satisfied: imblearn in c:\\programdata\\anaconda3\\lib\\site-packages (0.0)Note: you may need to restart the kernel to use updated packages.\n",
      "Requirement already satisfied: imbalanced-learn in c:\\programdata\\anaconda3\\lib\\site-packages (from imblearn) (0.8.1)\n",
      "Requirement already satisfied: numpy>=1.13.3 in c:\\programdata\\anaconda3\\lib\\site-packages (from imbalanced-learn->imblearn) (1.20.1)\n",
      "Requirement already satisfied: scipy>=0.19.1 in c:\\programdata\\anaconda3\\lib\\site-packages (from imbalanced-learn->imblearn) (1.6.2)\n",
      "Requirement already satisfied: scikit-learn>=0.24 in c:\\programdata\\anaconda3\\lib\\site-packages (from imbalanced-learn->imblearn) (0.24.1)\n",
      "Requirement already satisfied: joblib>=0.11 in c:\\programdata\\anaconda3\\lib\\site-packages (from imbalanced-learn->imblearn) (1.0.1)\n",
      "Requirement already satisfied: threadpoolctl>=2.0.0 in c:\\programdata\\anaconda3\\lib\\site-packages (from scikit-learn>=0.24->imbalanced-learn->imblearn) (2.1.0)\n",
      "\n"
     ]
    }
   ],
   "source": [
    "pip install imblearn"
   ]
  },
  {
   "cell_type": "code",
   "execution_count": 51,
   "id": "31fd68ed",
   "metadata": {},
   "outputs": [],
   "source": [
    "from imblearn.over_sampling import SMOTE"
   ]
  },
  {
   "cell_type": "code",
   "execution_count": 52,
   "id": "958a6a81",
   "metadata": {},
   "outputs": [],
   "source": [
    "sm = SMOTE(k_neighbors=4)\n",
    "X,Y = sm.fit_resample(X,Y)"
   ]
  },
  {
   "cell_type": "code",
   "execution_count": 53,
   "id": "3b6d819c",
   "metadata": {},
   "outputs": [
    {
     "data": {
      "text/plain": [
       "RandomForestClassifier()"
      ]
     },
     "execution_count": 53,
     "metadata": {},
     "output_type": "execute_result"
    }
   ],
   "source": [
    "rfc.fit(X_train, y_Train)"
   ]
  },
  {
   "cell_type": "code",
   "execution_count": 54,
   "id": "c5798a79",
   "metadata": {},
   "outputs": [],
   "source": [
    "rfc_pred = rfc.predict(X_test)"
   ]
  },
  {
   "cell_type": "code",
   "execution_count": 55,
   "id": "b63a29a5",
   "metadata": {},
   "outputs": [
    {
     "name": "stdout",
     "output_type": "stream",
     "text": [
      "Accuracy = 98.46%\n"
     ]
    }
   ],
   "source": [
    "print(\"Accuracy = %.2f%%\" % (accuracy_score(rfc_pred,y_test)*100.0))"
   ]
  },
  {
   "cell_type": "code",
   "execution_count": 56,
   "id": "0cc320aa",
   "metadata": {},
   "outputs": [],
   "source": [
    "from sklearn.neighbors import KNeighborsClassifier"
   ]
  },
  {
   "cell_type": "code",
   "execution_count": 57,
   "id": "cce174ca",
   "metadata": {},
   "outputs": [],
   "source": [
    "Y = df['gender']\n",
    "X = df[['age','height_cm','weight_kg','body_fat_per','diastolic','systolic','gripForce','sit_and_bend_forward_cm','broad_jump_cm','class']]"
   ]
  },
  {
   "cell_type": "code",
   "execution_count": 58,
   "id": "40a630f8",
   "metadata": {},
   "outputs": [],
   "source": [
    "sm  = SMOTE(k_neighbors=4)\n",
    "X,Y = sm.fit_resample(X,Y)"
   ]
  },
  {
   "cell_type": "code",
   "execution_count": 59,
   "id": "3f560295",
   "metadata": {},
   "outputs": [],
   "source": [
    "X_train, X_test, y_Train, y_test = train_test_split(X,Y,test_size=0.2, random_state=42)"
   ]
  },
  {
   "cell_type": "code",
   "execution_count": 60,
   "id": "58fb9490",
   "metadata": {},
   "outputs": [],
   "source": [
    "knn = KNeighborsClassifier(n_neighbors=3)"
   ]
  },
  {
   "cell_type": "code",
   "execution_count": 61,
   "id": "d932d54d",
   "metadata": {},
   "outputs": [
    {
     "data": {
      "text/plain": [
       "KNeighborsClassifier(n_neighbors=3)"
      ]
     },
     "execution_count": 61,
     "metadata": {},
     "output_type": "execute_result"
    }
   ],
   "source": [
    "knn.fit(X_train,y_Train)"
   ]
  },
  {
   "cell_type": "code",
   "execution_count": 62,
   "id": "7c2da026",
   "metadata": {},
   "outputs": [],
   "source": [
    "knn_pred = knn.predict(X_test)"
   ]
  },
  {
   "cell_type": "code",
   "execution_count": 63,
   "id": "49bcada4",
   "metadata": {},
   "outputs": [
    {
     "name": "stdout",
     "output_type": "stream",
     "text": [
      "Accuracy 99.21801689083516\n"
     ]
    }
   ],
   "source": [
    "print(\"Accuracy\",metrics.accuracy_score(y_test,knn_pred)*100)"
   ]
  },
  {
   "cell_type": "code",
   "execution_count": 64,
   "id": "27b5a6ca",
   "metadata": {},
   "outputs": [],
   "source": [
    "from sklearn import preprocessing "
   ]
  },
  {
   "cell_type": "code",
   "execution_count": 65,
   "id": "891cf5cf",
   "metadata": {},
   "outputs": [],
   "source": [
    "from sklearn import tree"
   ]
  },
  {
   "cell_type": "code",
   "execution_count": 66,
   "id": "57e38307",
   "metadata": {},
   "outputs": [],
   "source": [
    "Y = df['gender']\n",
    "X = df[['age','height_cm','weight_kg','body_fat_per','diastolic','systolic','gripForce','sit_and_bend_forward_cm','broad_jump_cm','class']]"
   ]
  },
  {
   "cell_type": "code",
   "execution_count": 67,
   "id": "b215b532",
   "metadata": {},
   "outputs": [],
   "source": [
    "sm = SMOTE(k_neighbors=4)\n",
    "X,Y= sm.fit_resample(X,Y)"
   ]
  },
  {
   "cell_type": "code",
   "execution_count": 68,
   "id": "44e3016a",
   "metadata": {},
   "outputs": [],
   "source": [
    "X_train, X_test , y_Train, y_test = train_test_split(X,Y,test_size=0.2, random_state=42)"
   ]
  },
  {
   "cell_type": "code",
   "execution_count": 69,
   "id": "97f3686f",
   "metadata": {},
   "outputs": [],
   "source": [
    "dt = tree.DecisionTreeClassifier()"
   ]
  },
  {
   "cell_type": "code",
   "execution_count": 70,
   "id": "31edce45",
   "metadata": {},
   "outputs": [
    {
     "data": {
      "text/plain": [
       "DecisionTreeClassifier()"
      ]
     },
     "execution_count": 70,
     "metadata": {},
     "output_type": "execute_result"
    }
   ],
   "source": [
    "dt.fit(X_train, y_Train)"
   ]
  },
  {
   "cell_type": "code",
   "execution_count": 71,
   "id": "121c6968",
   "metadata": {},
   "outputs": [],
   "source": [
    "dt_pred = dt.predict(X_test)"
   ]
  },
  {
   "cell_type": "code",
   "execution_count": 72,
   "id": "090bdf62",
   "metadata": {},
   "outputs": [
    {
     "name": "stdout",
     "output_type": "stream",
     "text": [
      "Accuracy 98.0294025649046\n"
     ]
    }
   ],
   "source": [
    "print(\"Accuracy\",metrics.accuracy_score(y_test, dt_pred)*100)"
   ]
  },
  {
   "cell_type": "code",
   "execution_count": 73,
   "id": "c3bcecfb",
   "metadata": {},
   "outputs": [
    {
     "name": "stdout",
     "output_type": "stream",
     "text": [
      "age(21-64) :34\n",
      "height_cm(125-194) :159\n",
      "weight_kg(26.3-138) :51\n",
      "body_fat_per(3-78.4) :56\n",
      "diastolic(0-156) :67\n",
      "systolic(0-201) :77\n",
      "gripForce(0-70.5) :65\n",
      "sit_and_bend_forward_cm(-25-213) :76\n",
      "broad_jump_cm(0-303) :74\n"
     ]
    }
   ],
   "source": [
    "r,c = 2,10\n",
    "l1 = [[0 for x in range (c)] for y in range(r)]\n",
    "\n",
    "age = float(input(\"age(21-64) :\"))\n",
    "l1[0][0]=age\n",
    "l1[1][0]=age\n",
    "\n",
    "height_cm = float(input(\"height_cm(125-194) :\"))\n",
    "l1[0][1]=height_cm\n",
    "l1[1][1]=height_cm\n",
    "\n",
    "weight_kg = float(input(\"weight_kg(26.3-138) :\"))\n",
    "l1[0][2]=weight_kg\n",
    "l1[1][2]=weight_kg\n",
    "\n",
    "body_fat_per= float(input(\"body_fat_per(3-78.4) :\"))\n",
    "l1[0][3]=body_fat_per\n",
    "l1[1][3]=body_fat_per\n",
    "\n",
    "diastolic= float(input(\"diastolic(0-156) :\"))\n",
    "l1[0][4]=diastolic\n",
    "l1[1][4]=diastolic\n",
    "\n",
    "systolic = float(input(\"systolic(0-201) :\"))\n",
    "l1[0][5]=systolic\n",
    "l1[1][5]=systolic\n",
    "\n",
    "gripForce= float(input(\"gripForce(0-70.5) :\"))\n",
    "l1[0][6]=gripForce\n",
    "l1[1][6]=gripForce\n",
    "\n",
    "sit_and_bend_forward_cm= float(input(\"sit_and_bend_forward_cm(-25-213) :\"))\n",
    "l1[0][7]=sit_and_bend_forward_cm\n",
    "l1[1][7]=sit_and_bend_forward_cm\n",
    "\n",
    "broad_jump_cm = float(input(\"broad_jump_cm(0-303) :\"))\n",
    "l1[0][8]=broad_jump_cm\n",
    "l1[1][8]=broad_jump_cm"
   ]
  },
  {
   "cell_type": "code",
   "execution_count": 75,
   "id": "19d7530a",
   "metadata": {},
   "outputs": [
    {
     "name": "stdout",
     "output_type": "stream",
     "text": [
      "Result\n",
      "0.0\n"
     ]
    }
   ],
   "source": [
    "dt_pred = dt.predict(l1)\n",
    "print('Result')\n",
    "print(float(dt_pred[0]))"
   ]
  }
 ],
 "metadata": {
  "kernelspec": {
   "display_name": "Python 3",
   "language": "python",
   "name": "python3"
  },
  "language_info": {
   "codemirror_mode": {
    "name": "ipython",
    "version": 3
   },
   "file_extension": ".py",
   "mimetype": "text/x-python",
   "name": "python",
   "nbconvert_exporter": "python",
   "pygments_lexer": "ipython3",
   "version": "3.8.8"
  }
 },
 "nbformat": 4,
 "nbformat_minor": 5
}
